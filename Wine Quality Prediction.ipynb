{
 "cells": [
  {
   "cell_type": "markdown",
   "metadata": {},
   "source": [
    "# Wine Quality Prediction\n",
    "\n",
    "\n",
    "\n",
    "In this project, I work on [Wine Quality Data Set](https://archive.ics.uci.edu/ml/datasets/Wine+Quality) from UCI Machine Learning Repository. This notebook consists of my approach for finding the best way to predict the Wine Quality with this dataset.\n",
    "\n",
    "For this project, I've taken inspiration from work of people on [Wine Quality Kaggle Dataset](https://www.kaggle.com/rajyellow46/wine-quality/code). Please note that the dataset on Kaggle is slightly different from UCI Respository. I hope anyone looking at this finds some value out of my work. :)\n",
    "<br>\n",
    "\n",
    "Citation:<br>\n",
    "P. Cortez, A. Cerdeira, F. Almeida, T. Matos and J. Reis. \n",
    "Modeling wine preferences by data mining from physicochemical properties.\n",
    "In Decision Support Systems, Elsevier, 47(4):547-553. ISSN: 0167-9236.\n",
    "\n",
    "<br>\n",
    "\n",
    "### Overview of Project\n",
    "\n",
    "- __Preparing Data:__ We read the dataset, add column for wine type, and scale it.\n",
    "- __EDA:__ We do basic checks for null values, check details of all attributes, and do basic visualisations to get insights from the dataset.\n",
    "- __Solving Class Imbalance:__ We try to solve Class Imabalance issue in dataset using class weights, oversampling, and aggregation of classes.\n",
    "- __Spot-Checking Algorithms:__ We check which algorithm would be best for our dataset by doing cross validation with various algorithms for classification. For this, we use a [Spot-Check framework](https://machinelearningmastery.com/spot-check-machine-learning-algorithms-in-python/).\n",
    "- __Hyperparameter Tuning:__ From the results of Spot-Checking, we pick three best. Also comparing them with Deep Learning model and go ahead with best performing model. We do hyperparameter tuning for best model and analyse results.\n",
    "- __Conclusion:__ We conclude which model(s) would be useful and why. Also mentioning further work to be done.\n",
    "\n",
    "<br>\n",
    "<br>\n",
    "Let's start by importing required libraries."
   ]
  },
  {
   "cell_type": "code",
   "execution_count": 85,
   "metadata": {},
   "outputs": [],
   "source": [
    "import numpy as np\n",
    "import pandas as pd\n",
    "import seaborn as sns\n",
    "import warnings\n",
    "warnings.filterwarnings('ignore')\n",
    "import matplotlib.pyplot as plt\n",
    "%matplotlib inline"
   ]
  },
  {
   "cell_type": "markdown",
   "metadata": {},
   "source": [
    "## Preparing Data\n",
    "\n",
    "<br>\n",
    "We'll read both the files that have data of red and white wine then combine them into one dataframe later."
   ]
  },
  {
   "cell_type": "code",
   "execution_count": 86,
   "metadata": {},
   "outputs": [],
   "source": [
    "redwine = pd.read_csv('winequality-red.csv',delimiter=';')\n",
    "whitewine = pd.read_csv('winequality-white.csv',delimiter=';')"
   ]
  },
  {
   "cell_type": "markdown",
   "metadata": {},
   "source": [
    "Adding a new 'type' column in each dataset to denote if the wine is white or red. Then we concatenate data from the two files and print shapes to make sure concatenation is successful."
   ]
  },
  {
   "cell_type": "code",
   "execution_count": 87,
   "metadata": {},
   "outputs": [
    {
     "name": "stdout",
     "output_type": "stream",
     "text": [
      "(1599, 13)\n",
      "(4898, 13)\n",
      "(6497, 13)\n"
     ]
    }
   ],
   "source": [
    "redwine['type'] = 0\n",
    "whitewine['type'] = 1\n",
    "\n",
    "df = pd.concat([redwine,whitewine])\n",
    "\n",
    "print(redwine.shape)\n",
    "print(whitewine.shape)\n",
    "print(df.shape)"
   ]
  },
  {
   "cell_type": "markdown",
   "metadata": {},
   "source": [
    "Shuffling the dataframe rows to randomize the sequence of examples."
   ]
  },
  {
   "cell_type": "code",
   "execution_count": 88,
   "metadata": {},
   "outputs": [
    {
     "data": {
      "text/html": [
       "<div>\n",
       "<style scoped>\n",
       "    .dataframe tbody tr th:only-of-type {\n",
       "        vertical-align: middle;\n",
       "    }\n",
       "\n",
       "    .dataframe tbody tr th {\n",
       "        vertical-align: top;\n",
       "    }\n",
       "\n",
       "    .dataframe thead th {\n",
       "        text-align: right;\n",
       "    }\n",
       "</style>\n",
       "<table border=\"1\" class=\"dataframe\">\n",
       "  <thead>\n",
       "    <tr style=\"text-align: right;\">\n",
       "      <th></th>\n",
       "      <th>fixed acidity</th>\n",
       "      <th>volatile acidity</th>\n",
       "      <th>citric acid</th>\n",
       "      <th>residual sugar</th>\n",
       "      <th>chlorides</th>\n",
       "      <th>free sulfur dioxide</th>\n",
       "      <th>total sulfur dioxide</th>\n",
       "      <th>density</th>\n",
       "      <th>pH</th>\n",
       "      <th>sulphates</th>\n",
       "      <th>alcohol</th>\n",
       "      <th>quality</th>\n",
       "      <th>type</th>\n",
       "    </tr>\n",
       "  </thead>\n",
       "  <tbody>\n",
       "    <tr>\n",
       "      <th>0</th>\n",
       "      <td>7.4</td>\n",
       "      <td>0.32</td>\n",
       "      <td>0.27</td>\n",
       "      <td>1.4</td>\n",
       "      <td>0.049</td>\n",
       "      <td>38.0</td>\n",
       "      <td>173.0</td>\n",
       "      <td>0.99335</td>\n",
       "      <td>3.03</td>\n",
       "      <td>0.52</td>\n",
       "      <td>9.3</td>\n",
       "      <td>5</td>\n",
       "      <td>1</td>\n",
       "    </tr>\n",
       "    <tr>\n",
       "      <th>1</th>\n",
       "      <td>7.4</td>\n",
       "      <td>0.22</td>\n",
       "      <td>0.26</td>\n",
       "      <td>1.2</td>\n",
       "      <td>0.035</td>\n",
       "      <td>18.0</td>\n",
       "      <td>97.0</td>\n",
       "      <td>0.99245</td>\n",
       "      <td>3.12</td>\n",
       "      <td>0.41</td>\n",
       "      <td>9.7</td>\n",
       "      <td>6</td>\n",
       "      <td>1</td>\n",
       "    </tr>\n",
       "    <tr>\n",
       "      <th>2</th>\n",
       "      <td>10.8</td>\n",
       "      <td>0.47</td>\n",
       "      <td>0.43</td>\n",
       "      <td>2.1</td>\n",
       "      <td>0.171</td>\n",
       "      <td>27.0</td>\n",
       "      <td>66.0</td>\n",
       "      <td>0.99820</td>\n",
       "      <td>3.17</td>\n",
       "      <td>0.76</td>\n",
       "      <td>10.8</td>\n",
       "      <td>6</td>\n",
       "      <td>0</td>\n",
       "    </tr>\n",
       "    <tr>\n",
       "      <th>3</th>\n",
       "      <td>6.2</td>\n",
       "      <td>0.29</td>\n",
       "      <td>0.32</td>\n",
       "      <td>3.6</td>\n",
       "      <td>0.026</td>\n",
       "      <td>39.0</td>\n",
       "      <td>138.0</td>\n",
       "      <td>0.98920</td>\n",
       "      <td>3.31</td>\n",
       "      <td>0.37</td>\n",
       "      <td>13.1</td>\n",
       "      <td>7</td>\n",
       "      <td>1</td>\n",
       "    </tr>\n",
       "    <tr>\n",
       "      <th>4</th>\n",
       "      <td>8.8</td>\n",
       "      <td>0.19</td>\n",
       "      <td>0.30</td>\n",
       "      <td>5.0</td>\n",
       "      <td>0.028</td>\n",
       "      <td>34.0</td>\n",
       "      <td>120.0</td>\n",
       "      <td>0.99242</td>\n",
       "      <td>2.94</td>\n",
       "      <td>0.47</td>\n",
       "      <td>11.2</td>\n",
       "      <td>5</td>\n",
       "      <td>1</td>\n",
       "    </tr>\n",
       "  </tbody>\n",
       "</table>\n",
       "</div>"
      ],
      "text/plain": [
       "   fixed acidity  volatile acidity  citric acid  residual sugar  chlorides  \\\n",
       "0            7.4              0.32         0.27             1.4      0.049   \n",
       "1            7.4              0.22         0.26             1.2      0.035   \n",
       "2           10.8              0.47         0.43             2.1      0.171   \n",
       "3            6.2              0.29         0.32             3.6      0.026   \n",
       "4            8.8              0.19         0.30             5.0      0.028   \n",
       "\n",
       "   free sulfur dioxide  total sulfur dioxide  density    pH  sulphates  \\\n",
       "0                 38.0                 173.0  0.99335  3.03       0.52   \n",
       "1                 18.0                  97.0  0.99245  3.12       0.41   \n",
       "2                 27.0                  66.0  0.99820  3.17       0.76   \n",
       "3                 39.0                 138.0  0.98920  3.31       0.37   \n",
       "4                 34.0                 120.0  0.99242  2.94       0.47   \n",
       "\n",
       "   alcohol  quality  type  \n",
       "0      9.3        5     1  \n",
       "1      9.7        6     1  \n",
       "2     10.8        6     0  \n",
       "3     13.1        7     1  \n",
       "4     11.2        5     1  "
      ]
     },
     "execution_count": 88,
     "metadata": {},
     "output_type": "execute_result"
    }
   ],
   "source": [
    "df = df.sample(frac=1).reset_index(drop=True)\n",
    "\n",
    "df.head()"
   ]
  },
  {
   "cell_type": "markdown",
   "metadata": {},
   "source": [
    "<br>"
   ]
  },
  {
   "cell_type": "markdown",
   "metadata": {},
   "source": [
    "Splitting the dataset into train and test. We use stratify argument for our class label column. This ensures that number of examples from every class is in the same proportion as train and test split."
   ]
  },
  {
   "cell_type": "code",
   "execution_count": 89,
   "metadata": {},
   "outputs": [
    {
     "name": "stdout",
     "output_type": "stream",
     "text": [
      "Train test split:\n",
      "(4547, 12)\n",
      "(4547,)\n",
      "(1950, 12)\n",
      "(1950,)\n",
      "\n",
      "Y train value counts:\n",
      "6    1985\n",
      "5    1496\n",
      "7     755\n",
      "4     151\n",
      "8     135\n",
      "3      21\n",
      "9       4\n",
      "Name: quality, dtype: int64\n"
     ]
    }
   ],
   "source": [
    "from sklearn.model_selection import train_test_split\n",
    "\n",
    "X_train, X_test, y_train, y_test = train_test_split(df.drop('quality',axis=1), df['quality'],test_size=0.3,\n",
    "                                                   stratify=df['quality'])\n",
    "\n",
    "print(\"Train test split:\")\n",
    "print(X_train.shape)\n",
    "print(y_train.shape)\n",
    "print(X_test.shape)\n",
    "print(y_test.shape)\n",
    "print()\n",
    "\n",
    "print(\"Y train value counts:\")\n",
    "print(y_train.value_counts())"
   ]
  },
  {
   "cell_type": "markdown",
   "metadata": {},
   "source": [
    "<br>\n",
    "We'll also scale the features usign MinMaxScaler. Notice that we're not scaling the type column since it has binary value and doesn't need scaling."
   ]
  },
  {
   "cell_type": "code",
   "execution_count": 90,
   "metadata": {},
   "outputs": [],
   "source": [
    "from sklearn.preprocessing import MinMaxScaler\n",
    "from sklearn.compose import ColumnTransformer\n",
    "\n",
    "features = list(X_train.columns)\n",
    "features.remove('type')\n",
    "\n",
    "ct_mms = ColumnTransformer([('MinMaxScaler', MinMaxScaler(), features)], remainder='passthrough')\n",
    "Xt_mms = ct_mms.fit_transform(X_train)\n",
    "Xts_mms = ct_mms.transform(X_test)"
   ]
  },
  {
   "cell_type": "markdown",
   "metadata": {},
   "source": [
    "## EDA\n",
    "\n",
    "Start by checking for null values and short summary about dataset."
   ]
  },
  {
   "cell_type": "code",
   "execution_count": 91,
   "metadata": {},
   "outputs": [
    {
     "data": {
      "text/plain": [
       "fixed acidity           0\n",
       "volatile acidity        0\n",
       "citric acid             0\n",
       "residual sugar          0\n",
       "chlorides               0\n",
       "free sulfur dioxide     0\n",
       "total sulfur dioxide    0\n",
       "density                 0\n",
       "pH                      0\n",
       "sulphates               0\n",
       "alcohol                 0\n",
       "quality                 0\n",
       "type                    0\n",
       "dtype: int64"
      ]
     },
     "execution_count": 91,
     "metadata": {},
     "output_type": "execute_result"
    }
   ],
   "source": [
    "df.isnull().sum()"
   ]
  },
  {
   "cell_type": "code",
   "execution_count": 92,
   "metadata": {},
   "outputs": [
    {
     "data": {
      "text/html": [
       "<div>\n",
       "<style scoped>\n",
       "    .dataframe tbody tr th:only-of-type {\n",
       "        vertical-align: middle;\n",
       "    }\n",
       "\n",
       "    .dataframe tbody tr th {\n",
       "        vertical-align: top;\n",
       "    }\n",
       "\n",
       "    .dataframe thead th {\n",
       "        text-align: right;\n",
       "    }\n",
       "</style>\n",
       "<table border=\"1\" class=\"dataframe\">\n",
       "  <thead>\n",
       "    <tr style=\"text-align: right;\">\n",
       "      <th></th>\n",
       "      <th>fixed acidity</th>\n",
       "      <th>volatile acidity</th>\n",
       "      <th>citric acid</th>\n",
       "      <th>residual sugar</th>\n",
       "      <th>chlorides</th>\n",
       "      <th>free sulfur dioxide</th>\n",
       "      <th>total sulfur dioxide</th>\n",
       "      <th>density</th>\n",
       "      <th>pH</th>\n",
       "      <th>sulphates</th>\n",
       "      <th>alcohol</th>\n",
       "      <th>quality</th>\n",
       "      <th>type</th>\n",
       "    </tr>\n",
       "  </thead>\n",
       "  <tbody>\n",
       "    <tr>\n",
       "      <th>count</th>\n",
       "      <td>6497.000000</td>\n",
       "      <td>6497.000000</td>\n",
       "      <td>6497.000000</td>\n",
       "      <td>6497.000000</td>\n",
       "      <td>6497.000000</td>\n",
       "      <td>6497.000000</td>\n",
       "      <td>6497.000000</td>\n",
       "      <td>6497.000000</td>\n",
       "      <td>6497.000000</td>\n",
       "      <td>6497.000000</td>\n",
       "      <td>6497.000000</td>\n",
       "      <td>6497.000000</td>\n",
       "      <td>6497.000000</td>\n",
       "    </tr>\n",
       "    <tr>\n",
       "      <th>mean</th>\n",
       "      <td>7.215307</td>\n",
       "      <td>0.339666</td>\n",
       "      <td>0.318633</td>\n",
       "      <td>5.443235</td>\n",
       "      <td>0.056034</td>\n",
       "      <td>30.525319</td>\n",
       "      <td>115.744574</td>\n",
       "      <td>0.994697</td>\n",
       "      <td>3.218501</td>\n",
       "      <td>0.531268</td>\n",
       "      <td>10.491801</td>\n",
       "      <td>5.818378</td>\n",
       "      <td>0.753886</td>\n",
       "    </tr>\n",
       "    <tr>\n",
       "      <th>std</th>\n",
       "      <td>1.296434</td>\n",
       "      <td>0.164636</td>\n",
       "      <td>0.145318</td>\n",
       "      <td>4.757804</td>\n",
       "      <td>0.035034</td>\n",
       "      <td>17.749400</td>\n",
       "      <td>56.521855</td>\n",
       "      <td>0.002999</td>\n",
       "      <td>0.160787</td>\n",
       "      <td>0.148806</td>\n",
       "      <td>1.192712</td>\n",
       "      <td>0.873255</td>\n",
       "      <td>0.430779</td>\n",
       "    </tr>\n",
       "    <tr>\n",
       "      <th>min</th>\n",
       "      <td>3.800000</td>\n",
       "      <td>0.080000</td>\n",
       "      <td>0.000000</td>\n",
       "      <td>0.600000</td>\n",
       "      <td>0.009000</td>\n",
       "      <td>1.000000</td>\n",
       "      <td>6.000000</td>\n",
       "      <td>0.987110</td>\n",
       "      <td>2.720000</td>\n",
       "      <td>0.220000</td>\n",
       "      <td>8.000000</td>\n",
       "      <td>3.000000</td>\n",
       "      <td>0.000000</td>\n",
       "    </tr>\n",
       "    <tr>\n",
       "      <th>25%</th>\n",
       "      <td>6.400000</td>\n",
       "      <td>0.230000</td>\n",
       "      <td>0.250000</td>\n",
       "      <td>1.800000</td>\n",
       "      <td>0.038000</td>\n",
       "      <td>17.000000</td>\n",
       "      <td>77.000000</td>\n",
       "      <td>0.992340</td>\n",
       "      <td>3.110000</td>\n",
       "      <td>0.430000</td>\n",
       "      <td>9.500000</td>\n",
       "      <td>5.000000</td>\n",
       "      <td>1.000000</td>\n",
       "    </tr>\n",
       "    <tr>\n",
       "      <th>50%</th>\n",
       "      <td>7.000000</td>\n",
       "      <td>0.290000</td>\n",
       "      <td>0.310000</td>\n",
       "      <td>3.000000</td>\n",
       "      <td>0.047000</td>\n",
       "      <td>29.000000</td>\n",
       "      <td>118.000000</td>\n",
       "      <td>0.994890</td>\n",
       "      <td>3.210000</td>\n",
       "      <td>0.510000</td>\n",
       "      <td>10.300000</td>\n",
       "      <td>6.000000</td>\n",
       "      <td>1.000000</td>\n",
       "    </tr>\n",
       "    <tr>\n",
       "      <th>75%</th>\n",
       "      <td>7.700000</td>\n",
       "      <td>0.400000</td>\n",
       "      <td>0.390000</td>\n",
       "      <td>8.100000</td>\n",
       "      <td>0.065000</td>\n",
       "      <td>41.000000</td>\n",
       "      <td>156.000000</td>\n",
       "      <td>0.996990</td>\n",
       "      <td>3.320000</td>\n",
       "      <td>0.600000</td>\n",
       "      <td>11.300000</td>\n",
       "      <td>6.000000</td>\n",
       "      <td>1.000000</td>\n",
       "    </tr>\n",
       "    <tr>\n",
       "      <th>max</th>\n",
       "      <td>15.900000</td>\n",
       "      <td>1.580000</td>\n",
       "      <td>1.660000</td>\n",
       "      <td>65.800000</td>\n",
       "      <td>0.611000</td>\n",
       "      <td>289.000000</td>\n",
       "      <td>440.000000</td>\n",
       "      <td>1.038980</td>\n",
       "      <td>4.010000</td>\n",
       "      <td>2.000000</td>\n",
       "      <td>14.900000</td>\n",
       "      <td>9.000000</td>\n",
       "      <td>1.000000</td>\n",
       "    </tr>\n",
       "  </tbody>\n",
       "</table>\n",
       "</div>"
      ],
      "text/plain": [
       "       fixed acidity  volatile acidity  citric acid  residual sugar  \\\n",
       "count    6497.000000       6497.000000  6497.000000     6497.000000   \n",
       "mean        7.215307          0.339666     0.318633        5.443235   \n",
       "std         1.296434          0.164636     0.145318        4.757804   \n",
       "min         3.800000          0.080000     0.000000        0.600000   \n",
       "25%         6.400000          0.230000     0.250000        1.800000   \n",
       "50%         7.000000          0.290000     0.310000        3.000000   \n",
       "75%         7.700000          0.400000     0.390000        8.100000   \n",
       "max        15.900000          1.580000     1.660000       65.800000   \n",
       "\n",
       "         chlorides  free sulfur dioxide  total sulfur dioxide      density  \\\n",
       "count  6497.000000          6497.000000           6497.000000  6497.000000   \n",
       "mean      0.056034            30.525319            115.744574     0.994697   \n",
       "std       0.035034            17.749400             56.521855     0.002999   \n",
       "min       0.009000             1.000000              6.000000     0.987110   \n",
       "25%       0.038000            17.000000             77.000000     0.992340   \n",
       "50%       0.047000            29.000000            118.000000     0.994890   \n",
       "75%       0.065000            41.000000            156.000000     0.996990   \n",
       "max       0.611000           289.000000            440.000000     1.038980   \n",
       "\n",
       "                pH    sulphates      alcohol      quality         type  \n",
       "count  6497.000000  6497.000000  6497.000000  6497.000000  6497.000000  \n",
       "mean      3.218501     0.531268    10.491801     5.818378     0.753886  \n",
       "std       0.160787     0.148806     1.192712     0.873255     0.430779  \n",
       "min       2.720000     0.220000     8.000000     3.000000     0.000000  \n",
       "25%       3.110000     0.430000     9.500000     5.000000     1.000000  \n",
       "50%       3.210000     0.510000    10.300000     6.000000     1.000000  \n",
       "75%       3.320000     0.600000    11.300000     6.000000     1.000000  \n",
       "max       4.010000     2.000000    14.900000     9.000000     1.000000  "
      ]
     },
     "execution_count": 92,
     "metadata": {},
     "output_type": "execute_result"
    }
   ],
   "source": [
    "df.describe()"
   ]
  },
  {
   "cell_type": "code",
   "execution_count": 93,
   "metadata": {},
   "outputs": [
    {
     "name": "stdout",
     "output_type": "stream",
     "text": [
      "<class 'pandas.core.frame.DataFrame'>\n",
      "RangeIndex: 6497 entries, 0 to 6496\n",
      "Data columns (total 13 columns):\n",
      " #   Column                Non-Null Count  Dtype  \n",
      "---  ------                --------------  -----  \n",
      " 0   fixed acidity         6497 non-null   float64\n",
      " 1   volatile acidity      6497 non-null   float64\n",
      " 2   citric acid           6497 non-null   float64\n",
      " 3   residual sugar        6497 non-null   float64\n",
      " 4   chlorides             6497 non-null   float64\n",
      " 5   free sulfur dioxide   6497 non-null   float64\n",
      " 6   total sulfur dioxide  6497 non-null   float64\n",
      " 7   density               6497 non-null   float64\n",
      " 8   pH                    6497 non-null   float64\n",
      " 9   sulphates             6497 non-null   float64\n",
      " 10  alcohol               6497 non-null   float64\n",
      " 11  quality               6497 non-null   int64  \n",
      " 12  type                  6497 non-null   int64  \n",
      "dtypes: float64(11), int64(2)\n",
      "memory usage: 660.0 KB\n"
     ]
    }
   ],
   "source": [
    "df.info()"
   ]
  },
  {
   "cell_type": "markdown",
   "metadata": {},
   "source": [
    "We have no null values and all the columns are in integer or float format. We can proceed with visualisations now.\n",
    "\n",
    "<br><br>\n",
    "Below heatmap of correlation matrix shows a few pairs of columns that correlate more than 50% but none of them are as high as 75% or more. So we will keep all the features we have."
   ]
  },
  {
   "cell_type": "code",
   "execution_count": 94,
   "metadata": {
    "scrolled": false
   },
   "outputs": [
    {
     "data": {
      "text/plain": [
       "<AxesSubplot:>"
      ]
     },
     "execution_count": 94,
     "metadata": {},
     "output_type": "execute_result"
    },
    {
     "data": {
      "image/png": "[encoded data removed]",
      "text/plain": [
       "<Figure size 864x720 with 2 Axes>"
      ]
     },
     "metadata": {
      "needs_background": "light"
     },
     "output_type": "display_data"
    }
   ],
   "source": [
    "plt.figure(figsize=(12,10))\n",
    "\n",
    "sns.heatmap(df.corr(),annot=True)"
   ]
  },
  {
   "cell_type": "markdown",
   "metadata": {},
   "source": [
    "The Countplot below shows us how there are very few instances available for some classes. This right here is <b>Class Imbalance Problem</b>."
   ]
  },
  {
   "cell_type": "markdown",
   "metadata": {},
   "source": [
    "Due to Class Imbalance, we might have difficulty while training. Models can overfit on the dominant classes because they don't have enough data from minority classes to train with them. Next, we will see how this problem can be solved.\n",
    "<br>"
   ]
  },
  {
   "cell_type": "code",
   "execution_count": 95,
   "metadata": {},
   "outputs": [
    {
     "data": {
      "text/plain": [
       "<AxesSubplot:xlabel='quality', ylabel='count'>"
      ]
     },
     "execution_count": 95,
     "metadata": {},
     "output_type": "execute_result"
    },
    {
     "data": {
      "image/png": "[encoded data removed]",
      "text/plain": [
       "<Figure size 720x576 with 2 Axes>"
      ]
     },
     "metadata": {
      "needs_background": "light"
     },
     "output_type": "display_data"
    }
   ],
   "source": [
    "fig,ax = plt.subplots(nrows=2, ncols=1, figsize=(10,8))\n",
    "\n",
    "sns.countplot(x='quality',hue='type',data=df,ax=ax[0])\n",
    "sns.countplot(x='quality',data=df, ax=ax[1])"
   ]
  },
  {
   "cell_type": "markdown",
   "metadata": {},
   "source": [
    "<br>\n",
    "\n",
    "## Solving Class Imbalance\n",
    "\n",
    "\n",
    "<br>\n",
    "\n",
    "For solving this issue, we will make use of Cost-Sensitive learning. Cost-sensitive learning is a subfield of machine learning that takes the costs of prediction errors (and potentially other costs) into account when training a machine learning model.\n",
    "\n",
    "We will explore following three approaches for solving Class Imbalance problem one by one.\n",
    "\n",
    "<b>1. Class Weights</b><br>\n",
    "<b>2. Oversampling</b><br>\n",
    "<b>3. Aggregating Classes</b><br>"
   ]
  },
  {
   "cell_type": "markdown",
   "metadata": {},
   "source": [
    "<br>\n",
    "\n",
    "### 1. Class Weights\n",
    "\n",
    "<br>\n",
    "\n",
    "Using [compute_class_weight()](http://scikit-learn.org/stable/modules/generated/sklearn.utils.class_weight.compute_class_weight.html) method, we get the weights for each class which is assigned to it during training. Then we create a dictionary of classes and weights so it can be passed to algorithms that support custom class weights."
   ]
  },
  {
   "cell_type": "code",
   "execution_count": 96,
   "metadata": {},
   "outputs": [
    {
     "name": "stdout",
     "output_type": "stream",
     "text": [
      "{3: 30.931972789115648, 4: 4.3017975402081365, 5: 0.434205500381971, 6: 0.3272400143936668, 7: 0.8603595080416272, 8: 4.811640211640212, 9: 162.39285714285714}\n"
     ]
    }
   ],
   "source": [
    "from sklearn.utils.class_weight import compute_class_weight\n",
    "\n",
    "bal_cw = compute_class_weight(class_weight='balanced',classes=np.unique(df['quality']),y=y_train.values)\n",
    "\n",
    "cls = list(range(3,10))\n",
    "\n",
    "bal_dict = {cls[i]:bal_cw[i] for i in range(len(cls))}\n",
    "\n",
    "print(bal_dict)"
   ]
  },
  {
   "cell_type": "markdown",
   "metadata": {},
   "source": [
    "Now that we have weights for each class, we will try to use them in a few models to see how they preform.\n",
    "\n",
    "Let's first import all the models and methods we'll neeed."
   ]
  },
  {
   "cell_type": "code",
   "execution_count": 97,
   "metadata": {},
   "outputs": [],
   "source": [
    "from sklearn.metrics import classification_report, confusion_matrix\n",
    "from sklearn.linear_model import LogisticRegression, RidgeClassifier\n",
    "from sklearn.svm import SVC\n",
    "from sklearn.tree import DecisionTreeClassifier"
   ]
  },
  {
   "cell_type": "code",
   "execution_count": 98,
   "metadata": {},
   "outputs": [],
   "source": [
    "def plot_confusion_matrix(cm, target_names, title, cmap=None, normalize=True):\n",
    "    import itertools\n",
    "\n",
    "    accuracy = np.trace(cm) / float(np.sum(cm))\n",
    "    misclass = 1 - accuracy\n",
    "\n",
    "    if cmap is None:\n",
    "        cmap = plt.get_cmap('Blues')\n",
    "\n",
    "    plt.figure(figsize=(8, 6))\n",
    "    plt.imshow(cm, interpolation='nearest', cmap=cmap)\n",
    "    plt.title(title)\n",
    "    plt.colorbar()\n",
    "\n",
    "    if target_names is not None:\n",
    "        tick_marks = np.arange(len(target_names))\n",
    "        plt.xticks(tick_marks, target_names, rotation=45)\n",
    "        plt.yticks(tick_marks, target_names)\n",
    "\n",
    "    if normalize:\n",
    "        cm = cm.astype('float') / cm.sum(axis=1)[:, np.newaxis]\n",
    "\n",
    "\n",
    "    thresh = cm.max() / 1.5 if normalize else cm.max() / 2\n",
    "    for i, j in itertools.product(range(cm.shape[0]), range(cm.shape[1])):\n",
    "        if normalize:\n",
    "            plt.text(j, i, \"{:0.4f}\".format(cm[i, j]),\n",
    "                     horizontalalignment=\"center\",\n",
    "                     color=\"white\" if cm[i, j] > thresh else \"black\")\n",
    "        else:\n",
    "            plt.text(j, i, \"{:,}\".format(cm[i, j]),\n",
    "                     horizontalalignment=\"center\",\n",
    "                     color=\"white\" if cm[i, j] > thresh else \"black\")\n",
    "\n",
    "    plt.tight_layout()\n",
    "    plt.ylabel('True label')\n",
    "    plt.xlabel('Predicted label\\naccuracy={:0.4f}; misclass={:0.4f}'.format(accuracy, misclass))\n",
    "    plt.show()\n",
    "\n",
    "\n",
    "def fit_pred_print(model, X_train, y_train, X_test, y_test, cf_matrix = False):\n",
    "    model.fit(X_train, y_train)\n",
    "    model_pred = model.predict(X_test)\n",
    "    print(classification_report(y_test, model_pred))\n",
    "    if cf_matrix == True:\n",
    "        plot_confusion_matrix(confusion_matrix(y_test, model_pred), [\"low\", \"medium\", \"high\"],\n",
    "                                   title=\"Confusion Matrix\", normalize=False)"
   ]
  },
  {
   "cell_type": "code",
   "execution_count": 99,
   "metadata": {},
   "outputs": [
    {
     "name": "stdout",
     "output_type": "stream",
     "text": [
      "              precision    recall  f1-score   support\n",
      "\n",
      "           3       0.02      0.44      0.04         9\n",
      "           4       0.09      0.42      0.15        65\n",
      "           5       0.53      0.45      0.49       642\n",
      "           6       0.54      0.16      0.25       851\n",
      "           7       0.31      0.29      0.30       324\n",
      "           8       0.11      0.45      0.18        58\n",
      "           9       0.00      0.00      0.00         1\n",
      "\n",
      "    accuracy                           0.30      1950\n",
      "   macro avg       0.23      0.32      0.20      1950\n",
      "weighted avg       0.47      0.30      0.33      1950\n",
      "\n"
     ]
    }
   ],
   "source": [
    "fit_pred_print(LogisticRegression(n_jobs=-1, class_weight=bal_dict), Xt_mms, y_train, Xts_mms, y_test)"
   ]
  },
  {
   "cell_type": "code",
   "execution_count": 100,
   "metadata": {},
   "outputs": [
    {
     "name": "stdout",
     "output_type": "stream",
     "text": [
      "              precision    recall  f1-score   support\n",
      "\n",
      "           3       0.01      0.44      0.03         9\n",
      "           4       0.08      0.35      0.14        65\n",
      "           5       0.51      0.46      0.48       642\n",
      "           6       0.54      0.07      0.12       851\n",
      "           7       0.28      0.18      0.22       324\n",
      "           8       0.09      0.28      0.14        58\n",
      "           9       0.00      1.00      0.01         1\n",
      "\n",
      "    accuracy                           0.23      1950\n",
      "   macro avg       0.22      0.40      0.16      1950\n",
      "weighted avg       0.46      0.23      0.26      1950\n",
      "\n"
     ]
    }
   ],
   "source": [
    "fit_pred_print(RidgeClassifier(class_weight=bal_dict), Xt_mms, y_train, Xts_mms, y_test)"
   ]
  },
  {
   "cell_type": "code",
   "execution_count": 101,
   "metadata": {},
   "outputs": [
    {
     "name": "stdout",
     "output_type": "stream",
     "text": [
      "              precision    recall  f1-score   support\n",
      "\n",
      "           3       0.03      0.22      0.05         9\n",
      "           4       0.13      0.51      0.21        65\n",
      "           5       0.55      0.54      0.54       642\n",
      "           6       0.57      0.26      0.35       851\n",
      "           7       0.29      0.34      0.31       324\n",
      "           8       0.14      0.48      0.22        58\n",
      "           9       0.00      0.00      0.00         1\n",
      "\n",
      "    accuracy                           0.38      1950\n",
      "   macro avg       0.24      0.34      0.24      1950\n",
      "weighted avg       0.49      0.38      0.40      1950\n",
      "\n"
     ]
    }
   ],
   "source": [
    "fit_pred_print(SVC(class_weight=bal_dict), Xt_mms, y_train, Xts_mms, y_test)"
   ]
  },
  {
   "cell_type": "code",
   "execution_count": 102,
   "metadata": {},
   "outputs": [
    {
     "name": "stdout",
     "output_type": "stream",
     "text": [
      "              precision    recall  f1-score   support\n",
      "\n",
      "           3       0.00      0.00      0.00         9\n",
      "           4       0.18      0.17      0.17        65\n",
      "           5       0.62      0.64      0.63       642\n",
      "           6       0.64      0.63      0.64       851\n",
      "           7       0.53      0.54      0.53       324\n",
      "           8       0.38      0.36      0.37        58\n",
      "           9       0.00      0.00      0.00         1\n",
      "\n",
      "    accuracy                           0.59      1950\n",
      "   macro avg       0.33      0.33      0.33      1950\n",
      "weighted avg       0.59      0.59      0.59      1950\n",
      "\n"
     ]
    }
   ],
   "source": [
    "fit_pred_print(DecisionTreeClassifier(class_weight=bal_dict), Xt_mms, y_train, Xts_mms, y_test)"
   ]
  },
  {
   "cell_type": "markdown",
   "metadata": {},
   "source": [
    "These are note good results. They've too low training accuracy and it doesn't seem they'll improve a lot after hyperparameter tuning. Let's move on to trying the next approach."
   ]
  },
  {
   "cell_type": "markdown",
   "metadata": {},
   "source": [
    "<br>\n",
    "\n",
    "### 2. Oversampling\n",
    "\n",
    "<br>\n",
    "\n",
    "We will use synthetic oversampling here to increase the number of instances in minority classes and see if performance of algorithms improves. In particular, SMOTE (Synthetic Minority Oversampling TEchnique) algorithm will be used here.\n",
    "\n",
    "We'll be applying oversampling algorithm on our training data only. If we apply it to the entire dataset, it will create synthetic examples of minority classes (which we already have very few to learn from) and might create instances that are too similar and not indicative or general population/real world."
   ]
  },
  {
   "cell_type": "code",
   "execution_count": 103,
   "metadata": {},
   "outputs": [
    {
     "name": "stdout",
     "output_type": "stream",
     "text": [
      "Original Dataset\n",
      "6    1985\n",
      "5    1496\n",
      "7     755\n",
      "4     151\n",
      "8     135\n",
      "3      21\n",
      "9       4\n",
      "Name: quality, dtype: int64\n",
      "\n",
      "Oversampled Dataset\n",
      "8    1985\n",
      "9    1985\n",
      "3    1985\n",
      "4    1985\n",
      "5    1985\n",
      "6    1985\n",
      "7    1985\n",
      "Name: quality, dtype: int64\n"
     ]
    }
   ],
   "source": [
    "from imblearn.over_sampling import SMOTE\n",
    "\n",
    "smote_model = SMOTE(n_jobs=-1, k_neighbors=2)\n",
    "\n",
    "smote_x, smote_y = smote_model.fit_resample(Xt_mms, y_train)\n",
    "\n",
    "print(\"Original Dataset\")\n",
    "print(y_train.value_counts())\n",
    "print()\n",
    "\n",
    "print(\"Oversampled Dataset\")\n",
    "print(smote_y.value_counts())"
   ]
  },
  {
   "cell_type": "markdown",
   "metadata": {},
   "source": [
    "<br>\n",
    "As you can see, all the classes have same number of instances as that of the most populated class.\n",
    "\n",
    "We will train the same four algorithms we tried before with oversampled data to check if there is any improvement in the performance. We won't use balanced class weights as the imbalance has been taken care of by oversampling."
   ]
  },
  {
   "cell_type": "code",
   "execution_count": 104,
   "metadata": {},
   "outputs": [
    {
     "name": "stdout",
     "output_type": "stream",
     "text": [
      "              precision    recall  f1-score   support\n",
      "\n",
      "           3       0.02      0.44      0.03         9\n",
      "           4       0.09      0.37      0.14        65\n",
      "           5       0.54      0.41      0.47       642\n",
      "           6       0.56      0.20      0.30       851\n",
      "           7       0.29      0.30      0.29       324\n",
      "           8       0.12      0.48      0.19        58\n",
      "           9       0.00      0.00      0.00         1\n",
      "\n",
      "    accuracy                           0.30      1950\n",
      "   macro avg       0.23      0.32      0.20      1950\n",
      "weighted avg       0.48      0.30      0.34      1950\n",
      "\n"
     ]
    }
   ],
   "source": [
    "fit_pred_print(LogisticRegression(n_jobs=-1), smote_x, smote_y, Xts_mms, y_test)"
   ]
  },
  {
   "cell_type": "code",
   "execution_count": 105,
   "metadata": {},
   "outputs": [
    {
     "name": "stdout",
     "output_type": "stream",
     "text": [
      "              precision    recall  f1-score   support\n",
      "\n",
      "           3       0.01      0.44      0.02         9\n",
      "           4       0.07      0.29      0.12        65\n",
      "           5       0.51      0.42      0.46       642\n",
      "           6       0.53      0.08      0.14       851\n",
      "           7       0.30      0.20      0.24       324\n",
      "           8       0.08      0.26      0.13        58\n",
      "           9       0.00      1.00      0.01         1\n",
      "\n",
      "    accuracy                           0.23      1950\n",
      "   macro avg       0.22      0.39      0.16      1950\n",
      "weighted avg       0.45      0.23      0.26      1950\n",
      "\n"
     ]
    }
   ],
   "source": [
    "fit_pred_print(RidgeClassifier(), smote_x, smote_y, Xts_mms, y_test)"
   ]
  },
  {
   "cell_type": "code",
   "execution_count": 106,
   "metadata": {},
   "outputs": [
    {
     "name": "stdout",
     "output_type": "stream",
     "text": [
      "              precision    recall  f1-score   support\n",
      "\n",
      "           3       0.01      0.11      0.02         9\n",
      "           4       0.12      0.49      0.19        65\n",
      "           5       0.59      0.53      0.56       642\n",
      "           6       0.58      0.29      0.39       851\n",
      "           7       0.31      0.34      0.32       324\n",
      "           8       0.14      0.57      0.23        58\n",
      "           9       0.00      0.00      0.00         1\n",
      "\n",
      "    accuracy                           0.39      1950\n",
      "   macro avg       0.25      0.33      0.24      1950\n",
      "weighted avg       0.51      0.39      0.42      1950\n",
      "\n"
     ]
    }
   ],
   "source": [
    "fit_pred_print(SVC(), smote_x, smote_y, Xts_mms, y_test)"
   ]
  },
  {
   "cell_type": "code",
   "execution_count": 107,
   "metadata": {},
   "outputs": [
    {
     "name": "stdout",
     "output_type": "stream",
     "text": [
      "              precision    recall  f1-score   support\n",
      "\n",
      "           3       0.00      0.00      0.00         9\n",
      "           4       0.19      0.31      0.24        65\n",
      "           5       0.62      0.60      0.61       642\n",
      "           6       0.64      0.54      0.59       851\n",
      "           7       0.46      0.56      0.51       324\n",
      "           8       0.24      0.38      0.29        58\n",
      "           9       0.00      0.00      0.00         1\n",
      "\n",
      "    accuracy                           0.55      1950\n",
      "   macro avg       0.31      0.34      0.32      1950\n",
      "weighted avg       0.57      0.55      0.56      1950\n",
      "\n"
     ]
    }
   ],
   "source": [
    "fit_pred_print(DecisionTreeClassifier(), smote_x, smote_y, Xts_mms, y_test)"
   ]
  },
  {
   "cell_type": "markdown",
   "metadata": {},
   "source": [
    "<br>\n",
    "\n",
    "These results show that there is no noticable improvement in results if we use oversampling. It surely is difficult to achieve so when the test data has less than 10 instances for some classes. Before we go ahead with trying to Aggregating Classes, let's see how the models perform without oversampling or class weights."
   ]
  },
  {
   "cell_type": "code",
   "execution_count": 108,
   "metadata": {},
   "outputs": [
    {
     "name": "stdout",
     "output_type": "stream",
     "text": [
      "              precision    recall  f1-score   support\n",
      "\n",
      "           3       0.00      0.00      0.00         9\n",
      "           4       0.00      0.00      0.00        65\n",
      "           5       0.58      0.61      0.59       642\n",
      "           6       0.51      0.70      0.59       851\n",
      "           7       0.45      0.17      0.24       324\n",
      "           8       0.00      0.00      0.00        58\n",
      "           9       0.00      0.00      0.00         1\n",
      "\n",
      "    accuracy                           0.53      1950\n",
      "   macro avg       0.22      0.21      0.20      1950\n",
      "weighted avg       0.49      0.53      0.50      1950\n",
      "\n"
     ]
    }
   ],
   "source": [
    "fit_pred_print(LogisticRegression(n_jobs=-1), Xt_mms, y_train, Xts_mms, y_test)"
   ]
  },
  {
   "cell_type": "code",
   "execution_count": 109,
   "metadata": {},
   "outputs": [
    {
     "name": "stdout",
     "output_type": "stream",
     "text": [
      "              precision    recall  f1-score   support\n",
      "\n",
      "           3       0.00      0.00      0.00         9\n",
      "           4       0.00      0.00      0.00        65\n",
      "           5       0.57      0.62      0.59       642\n",
      "           6       0.50      0.73      0.60       851\n",
      "           7       0.56      0.03      0.05       324\n",
      "           8       0.00      0.00      0.00        58\n",
      "           9       0.00      0.00      0.00         1\n",
      "\n",
      "    accuracy                           0.53      1950\n",
      "   macro avg       0.23      0.20      0.18      1950\n",
      "weighted avg       0.50      0.53      0.46      1950\n",
      "\n"
     ]
    }
   ],
   "source": [
    "fit_pred_print(RidgeClassifier(), Xt_mms, y_train, Xts_mms, y_test)"
   ]
  },
  {
   "cell_type": "code",
   "execution_count": 110,
   "metadata": {},
   "outputs": [
    {
     "name": "stdout",
     "output_type": "stream",
     "text": [
      "              precision    recall  f1-score   support\n",
      "\n",
      "           3       0.00      0.00      0.00         9\n",
      "           4       0.00      0.00      0.00        65\n",
      "           5       0.61      0.60      0.60       642\n",
      "           6       0.51      0.75      0.61       851\n",
      "           7       0.52      0.12      0.20       324\n",
      "           8       0.00      0.00      0.00        58\n",
      "           9       0.00      0.00      0.00         1\n",
      "\n",
      "    accuracy                           0.54      1950\n",
      "   macro avg       0.23      0.21      0.20      1950\n",
      "weighted avg       0.51      0.54      0.50      1950\n",
      "\n"
     ]
    }
   ],
   "source": [
    "fit_pred_print(SVC(), Xt_mms, y_train, Xts_mms, y_test)"
   ]
  },
  {
   "cell_type": "code",
   "execution_count": 111,
   "metadata": {},
   "outputs": [
    {
     "name": "stdout",
     "output_type": "stream",
     "text": [
      "              precision    recall  f1-score   support\n",
      "\n",
      "           3       0.00      0.00      0.00         9\n",
      "           4       0.26      0.18      0.21        65\n",
      "           5       0.65      0.64      0.64       642\n",
      "           6       0.62      0.60      0.61       851\n",
      "           7       0.47      0.54      0.50       324\n",
      "           8       0.32      0.34      0.33        58\n",
      "           9       0.00      0.00      0.00         1\n",
      "\n",
      "    accuracy                           0.58      1950\n",
      "   macro avg       0.33      0.33      0.33      1950\n",
      "weighted avg       0.58      0.58      0.58      1950\n",
      "\n"
     ]
    }
   ],
   "source": [
    "fit_pred_print(DecisionTreeClassifier(), Xt_mms, y_train, Xts_mms, y_test)"
   ]
  },
  {
   "cell_type": "markdown",
   "metadata": {},
   "source": [
    "Now we know that oversampling and class weights actually decreased the accuracy and models couldn't perform well. They didn't actually help with class imbalance problem but made it worse.\n",
    "\n",
    "Let's see if we can get better performance out of these models after aggregating the classes."
   ]
  },
  {
   "cell_type": "markdown",
   "metadata": {},
   "source": [
    "<br>\n",
    "\n",
    "### 3. Aggregating Classes"
   ]
  },
  {
   "cell_type": "markdown",
   "metadata": {},
   "source": [
    "Let's have a look at the countplot of the label once again."
   ]
  },
  {
   "cell_type": "code",
   "execution_count": 112,
   "metadata": {},
   "outputs": [
    {
     "data": {
      "text/plain": [
       "<AxesSubplot:xlabel='quality', ylabel='count'>"
      ]
     },
     "execution_count": 112,
     "metadata": {},
     "output_type": "execute_result"
    },
    {
     "data": {
      "image/png": "[encoded data removed]",
      "text/plain": [
       "<Figure size 576x288 with 1 Axes>"
      ]
     },
     "metadata": {
      "needs_background": "light"
     },
     "output_type": "display_data"
    }
   ],
   "source": [
    "plt.figure(figsize=(8,4))\n",
    "\n",
    "sns.countplot(x='quality', data=df)"
   ]
  },
  {
   "cell_type": "code",
   "execution_count": 113,
   "metadata": {},
   "outputs": [
    {
     "data": {
      "text/plain": [
       "6    2836\n",
       "5    2138\n",
       "7    1079\n",
       "4     216\n",
       "8     193\n",
       "3      30\n",
       "9       5\n",
       "Name: quality, dtype: int64"
      ]
     },
     "execution_count": 113,
     "metadata": {},
     "output_type": "execute_result"
    }
   ],
   "source": [
    "df['quality'].value_counts()"
   ]
  },
  {
   "cell_type": "markdown",
   "metadata": {},
   "source": [
    "Based on the graph and data we have, it seems we can group the actual classes into three groups and pretend they're the new classes. It can look like as follows:\n",
    "\n",
    "<b>3-4 = LOW will become Class 0</b><br>\n",
    "<b>5-6 = MEDIUM will become Class 1</b><br>\n",
    "<b>7-9 = HIGH will become Class 2</b><br>\n",
    "\n",
    "Let's try this out and use it with algorithms we ran before."
   ]
  },
  {
   "cell_type": "code",
   "execution_count": 114,
   "metadata": {},
   "outputs": [
    {
     "data": {
      "text/plain": [
       "1    4974\n",
       "2    1277\n",
       "0     246\n",
       "Name: quality, dtype: int64"
      ]
     },
     "execution_count": 114,
     "metadata": {},
     "output_type": "execute_result"
    }
   ],
   "source": [
    "df.quality = df.quality.map({3:0, 4:0, 5:1, 6:1, 7:2, 8:2, 9:2})\n",
    "\n",
    "df['quality'].value_counts()"
   ]
  },
  {
   "cell_type": "code",
   "execution_count": 115,
   "metadata": {},
   "outputs": [
    {
     "name": "stdout",
     "output_type": "stream",
     "text": [
      "Train test split:\n",
      "(4547, 12)\n",
      "(4547,)\n",
      "(1950, 12)\n",
      "(1950,)\n",
      "\n",
      "Y train value counts:\n",
      "1    3481\n",
      "2     894\n",
      "0     172\n",
      "Name: quality, dtype: int64\n"
     ]
    }
   ],
   "source": [
    "X_train, X_test, y_train, y_test = train_test_split(df.drop('quality',axis=1), df['quality'],test_size=0.3,\n",
    "                                                   stratify=df['quality'])\n",
    "\n",
    "print(\"Train test split:\")\n",
    "print(X_train.shape)\n",
    "print(y_train.shape)\n",
    "print(X_test.shape)\n",
    "print(y_test.shape)\n",
    "print()\n",
    "\n",
    "print(\"Y train value counts:\")\n",
    "print(y_train.value_counts())"
   ]
  },
  {
   "cell_type": "code",
   "execution_count": 116,
   "metadata": {},
   "outputs": [],
   "source": [
    "from sklearn.preprocessing import MinMaxScaler, StandardScaler\n",
    "from sklearn.compose import ColumnTransformer\n",
    "\n",
    "features = list(X_train.columns)\n",
    "features.remove('type')\n",
    "\n",
    "ct_mms = ColumnTransformer([('MinMaxScaler', MinMaxScaler(), features)], remainder='passthrough')\n",
    "X_train = ct_mms.fit_transform(X_train)\n",
    "X_test = ct_mms.transform(X_test)"
   ]
  },
  {
   "cell_type": "code",
   "execution_count": 117,
   "metadata": {},
   "outputs": [
    {
     "name": "stdout",
     "output_type": "stream",
     "text": [
      "              precision    recall  f1-score   support\n",
      "\n",
      "           0       0.00      0.00      0.00        74\n",
      "           1       0.80      0.97      0.88      1493\n",
      "           2       0.69      0.27      0.39       383\n",
      "\n",
      "    accuracy                           0.79      1950\n",
      "   macro avg       0.50      0.41      0.42      1950\n",
      "weighted avg       0.75      0.79      0.75      1950\n",
      "\n"
     ]
    }
   ],
   "source": [
    "fit_pred_print(LogisticRegression(n_jobs=-1), X_train, y_train, X_test, y_test)"
   ]
  },
  {
   "cell_type": "code",
   "execution_count": 118,
   "metadata": {},
   "outputs": [
    {
     "name": "stdout",
     "output_type": "stream",
     "text": [
      "              precision    recall  f1-score   support\n",
      "\n",
      "           0       0.00      0.00      0.00        74\n",
      "           1       0.79      0.99      0.88      1493\n",
      "           2       0.78      0.18      0.29       383\n",
      "\n",
      "    accuracy                           0.79      1950\n",
      "   macro avg       0.52      0.39      0.39      1950\n",
      "weighted avg       0.76      0.79      0.73      1950\n",
      "\n"
     ]
    }
   ],
   "source": [
    "fit_pred_print(RidgeClassifier(), X_train, y_train, X_test, y_test)"
   ]
  },
  {
   "cell_type": "code",
   "execution_count": 119,
   "metadata": {},
   "outputs": [
    {
     "name": "stdout",
     "output_type": "stream",
     "text": [
      "              precision    recall  f1-score   support\n",
      "\n",
      "           0       0.00      0.00      0.00        74\n",
      "           1       0.79      0.98      0.88      1493\n",
      "           2       0.75      0.19      0.31       383\n",
      "\n",
      "    accuracy                           0.79      1950\n",
      "   macro avg       0.51      0.39      0.40      1950\n",
      "weighted avg       0.75      0.79      0.73      1950\n",
      "\n"
     ]
    }
   ],
   "source": [
    "fit_pred_print(SVC(), X_train, y_train, X_test, y_test)"
   ]
  },
  {
   "cell_type": "code",
   "execution_count": 120,
   "metadata": {},
   "outputs": [
    {
     "name": "stdout",
     "output_type": "stream",
     "text": [
      "              precision    recall  f1-score   support\n",
      "\n",
      "           0       0.22      0.24      0.23        74\n",
      "           1       0.87      0.85      0.86      1493\n",
      "           2       0.58      0.61      0.59       383\n",
      "\n",
      "    accuracy                           0.78      1950\n",
      "   macro avg       0.56      0.57      0.56      1950\n",
      "weighted avg       0.79      0.78      0.79      1950\n",
      "\n"
     ]
    }
   ],
   "source": [
    "fit_pred_print(DecisionTreeClassifier(), X_train, y_train, X_test, y_test)"
   ]
  },
  {
   "cell_type": "markdown",
   "metadata": {},
   "source": [
    "The models have performed far better after aggregating classes. This was expected because now there are less classes and consequently more examples in each class. This gives models enough data from each class to train on.\n",
    "\n",
    "<br>\n",
    "\n",
    "## Spot-Check Algorithms\n",
    "\n",
    "<br>\n",
    "\n",
    "We'll go ahead with this solution of aggregating classes. Next, we will Spot-Check algorithms for classification and find out which is best performing algorithm. For this, we will use the Spot-Check Framework developed by Jason Brownlee. You can find it by going to [this link](https://machinelearningmastery.com/spot-check-machine-learning-algorithms-in-python/)."
   ]
  },
  {
   "cell_type": "markdown",
   "metadata": {},
   "source": [
    "Below code cell contains the code from the article with few modifications to give a concise view of the results."
   ]
  },
  {
   "cell_type": "code",
   "execution_count": 121,
   "metadata": {},
   "outputs": [
    {
     "name": "stdout",
     "output_type": "stream",
     "text": [
      "Defined 53 models\n"
     ]
    }
   ],
   "source": [
    "from numpy import mean\n",
    "from numpy import std\n",
    "from matplotlib import pyplot\n",
    "from sklearn.datasets import make_classification\n",
    "from sklearn.model_selection import cross_val_score\n",
    "from sklearn.preprocessing import StandardScaler\n",
    "from sklearn.preprocessing import MinMaxScaler\n",
    "from sklearn.pipeline import Pipeline\n",
    "from sklearn.linear_model import LogisticRegression\n",
    "from sklearn.linear_model import RidgeClassifier\n",
    "from sklearn.linear_model import SGDClassifier\n",
    "from sklearn.linear_model import PassiveAggressiveClassifier\n",
    "from sklearn.neighbors import KNeighborsClassifier\n",
    "from sklearn.tree import DecisionTreeClassifier\n",
    "from sklearn.tree import ExtraTreeClassifier\n",
    "from sklearn.svm import SVC\n",
    "from sklearn.naive_bayes import GaussianNB\n",
    "from sklearn.ensemble import AdaBoostClassifier\n",
    "from sklearn.ensemble import BaggingClassifier\n",
    "from sklearn.ensemble import RandomForestClassifier\n",
    "from sklearn.ensemble import ExtraTreesClassifier\n",
    "from sklearn.ensemble import GradientBoostingClassifier\n",
    "\n",
    "\n",
    "# create a dict of standard models to evaluate {name:object}\n",
    "def define_models(models=dict()):\n",
    "\t# linear models\n",
    "\tmodels['logistic'] = LogisticRegression()\n",
    "\talpha = [0.1, 0.2, 0.3, 0.4, 0.5, 0.6, 0.7, 0.8, 0.9, 1.0]\n",
    "\tfor a in alpha:\n",
    "\t\tmodels['ridge-'+str(a)] = RidgeClassifier(alpha=a)\n",
    "\tmodels['sgd'] = SGDClassifier(max_iter=1000, tol=1e-3)\n",
    "\tmodels['pa'] = PassiveAggressiveClassifier(max_iter=1000, tol=1e-3)\n",
    "\t# non-linear models\n",
    "\tn_neighbors = range(1, 21)\n",
    "\tfor k in n_neighbors:\n",
    "\t\tmodels['knn-'+str(k)] = KNeighborsClassifier(n_neighbors=k)\n",
    "\tmodels['cart'] = DecisionTreeClassifier()\n",
    "\tmodels['extra'] = ExtraTreeClassifier()\n",
    "\tmodels['svml'] = SVC(kernel='linear')\n",
    "\tmodels['svmp'] = SVC(kernel='poly')\n",
    "\tc_values = [0.1, 0.2, 0.3, 0.4, 0.5, 0.6, 0.7, 0.8, 0.9, 1.0]\n",
    "\tfor c in c_values:\n",
    "\t\tmodels['svmr'+str(c)] = SVC(C=c)\n",
    "\tmodels['bayes'] = GaussianNB()\n",
    "\t# ensemble models\n",
    "\tn_trees = 100\n",
    "\tmodels['ada'] = AdaBoostClassifier(n_estimators=n_trees)\n",
    "\tmodels['bag'] = BaggingClassifier(n_estimators=n_trees)\n",
    "\tmodels['rf'] = RandomForestClassifier(n_estimators=n_trees)\n",
    "\tmodels['et'] = ExtraTreesClassifier(n_estimators=n_trees)\n",
    "\tmodels['gbm'] = GradientBoostingClassifier(n_estimators=n_trees)\n",
    "\tprint('Defined %d models' % len(models))\n",
    "\treturn models\n",
    " \n",
    "# create a feature preparation pipeline for a model\n",
    "def make_pipeline(model):\n",
    "\tsteps = list()\n",
    "\t# the model\n",
    "\tsteps.append(('model', model))\n",
    "\t# create pipeline\n",
    "\tpipeline = Pipeline(steps=steps)\n",
    "\treturn pipeline\n",
    " \n",
    "# evaluate a single model\n",
    "def evaluate_model(X, y, model, folds, metric):\n",
    "\t# create the pipeline\n",
    "\tpipeline = make_pipeline(model)\n",
    "\t# evaluate model\n",
    "\tscores = cross_val_score(pipeline, X, y, scoring=metric, cv=folds, n_jobs=-1)\n",
    "\treturn scores\n",
    " \n",
    "# evaluate a model and try to trap errors and and hide warnings\n",
    "def robust_evaluate_model(X, y, model, folds, metric):\n",
    "\tscores = None\n",
    "\tscores = evaluate_model(X, y, model, folds, metric)\n",
    "\treturn scores\n",
    " \n",
    "# evaluate a dict of models {name:object}, returns {name:score}\n",
    "def evaluate_models(X, y, models, folds=5, metric='accuracy'):\n",
    "\tresults = dict()\n",
    "\tfor name, model in models.items():\n",
    "\t\t# evaluate the model\n",
    "\t\tscores = robust_evaluate_model(X, y, model, folds, metric)\n",
    "\t\t# show process\n",
    "\t\tif scores is not None:\n",
    "\t\t\t# store a result\n",
    "\t\t\tresults[name] = scores\n",
    "\t\t\tmean_score, std_score = mean(scores), std(scores)\n",
    "\t\telse:\n",
    "\t\t\tprint('>%s: error' % name)\n",
    "\treturn results\n",
    " \n",
    "# print and plot the top n results\n",
    "def summarize_results(results, maximize=True, top_n=10):\n",
    "\t# check for no results\n",
    "\tif len(results) == 0:\n",
    "\t\tprint('no results')\n",
    "\t\treturn\n",
    "\t# determine how many results to summarize\n",
    "\tn = min(top_n, len(results))\n",
    "\t# create a list of (name, mean(scores)) tuples\n",
    "\tmean_scores = [(k,mean(v)) for k,v in results.items()]\n",
    "\t# sort tuples by mean score\n",
    "\tmean_scores = sorted(mean_scores, key=lambda x: x[1])\n",
    "\t# reverse for descending order (e.g. for accuracy)\n",
    "\tif maximize:\n",
    "\t\tmean_scores = list(reversed(mean_scores))\n",
    "\t# retrieve the top n for summarization\n",
    "\tnames = [x[0] for x in mean_scores[:n]]\n",
    "\tscores = [results[x[0]] for x in mean_scores[:n]]\n",
    "\t# print the top n\n",
    "\tprint()\n",
    "\tfor i in range(n):\n",
    "\t\tname = names[i]\n",
    "\t\tmean_score, std_score = mean(results[name]), std(results[name])\n",
    "\t\tprint('Rank=%d, Name=%s, Score=%.3f (+/- %.3f)' % (i+1, name, mean_score, std_score))\n",
    "\t# boxplot for the top n\n",
    "\tpyplot.boxplot(scores, labels=names)\n",
    "\t_, labels = pyplot.xticks()\n",
    "\tpyplot.setp(labels, rotation=90)\n",
    "\tpyplot.savefig('spotcheck.png')\n",
    " \n",
    "# get model list\n",
    "models = define_models()"
   ]
  },
  {
   "cell_type": "code",
   "execution_count": 122,
   "metadata": {},
   "outputs": [
    {
     "name": "stdout",
     "output_type": "stream",
     "text": [
      "\n",
      "Rank=1, Name=et, Score=0.837 (+/- 0.008)\n",
      "Rank=2, Name=rf, Score=0.835 (+/- 0.005)\n",
      "Rank=3, Name=bag, Score=0.831 (+/- 0.009)\n",
      "Rank=4, Name=gbm, Score=0.804 (+/- 0.007)\n",
      "Rank=5, Name=knn-10, Score=0.790 (+/- 0.009)\n",
      "Rank=6, Name=knn-4, Score=0.789 (+/- 0.007)\n",
      "Rank=7, Name=knn-20, Score=0.789 (+/- 0.003)\n",
      "Rank=8, Name=knn-18, Score=0.788 (+/- 0.003)\n",
      "Rank=9, Name=knn-8, Score=0.788 (+/- 0.006)\n",
      "Rank=10, Name=knn-17, Score=0.788 (+/- 0.005)\n"
     ]
    },
    {
     "data": {
      "image/png": "[encoded data removed]",
      "text/plain": [
       "<Figure size 432x288 with 1 Axes>"
      ]
     },
     "metadata": {
      "needs_background": "light"
     },
     "output_type": "display_data"
    }
   ],
   "source": [
    "# evaluate models\n",
    "results = evaluate_models(X_train, y_train, models)\n",
    "# summarize results\n",
    "summarize_results(results)"
   ]
  },
  {
   "cell_type": "markdown",
   "metadata": {},
   "source": [
    "## Hyperparameter Tuning\n",
    "\n",
    "<br>\n",
    "\n",
    "From the above results, we see three models stand out. Namely ExtraTreesClassifier, RandomForest, and Bagging. We will run each of them and see which performs best. We will run RandomSearchCV to find suitable parameters for these models. After finding the best one among them, we will use GridSearchCV.\n",
    "\n",
    "For comparison, we will use a Neural Network as well to see if it performs better."
   ]
  },
  {
   "cell_type": "code",
   "execution_count": 123,
   "metadata": {},
   "outputs": [
    {
     "name": "stdout",
     "output_type": "stream",
     "text": [
      "              precision    recall  f1-score   support\n",
      "\n",
      "           0       0.50      0.11      0.18        74\n",
      "           1       0.82      0.96      0.88      1493\n",
      "           2       0.70      0.33      0.45       383\n",
      "\n",
      "    accuracy                           0.80      1950\n",
      "   macro avg       0.67      0.47      0.50      1950\n",
      "weighted avg       0.78      0.80      0.77      1950\n",
      "\n"
     ]
    },
    {
     "data": {
      "image/png": "[encoded data removed]",
      "text/plain": [
       "<Figure size 576x432 with 2 Axes>"
      ]
     },
     "metadata": {
      "needs_background": "light"
     },
     "output_type": "display_data"
    }
   ],
   "source": [
    "from keras.models import Sequential\n",
    "from keras.layers import Dense\n",
    "from keras.wrappers.scikit_learn import KerasClassifier\n",
    "from keras.utils import np_utils\n",
    "\n",
    "dum_y = pd.get_dummies(y_train)\n",
    "\n",
    "dum_y = dum_y.reset_index()\n",
    "\n",
    "dum_y.drop(columns='index', axis=1, inplace=True)\n",
    "\n",
    "def baseline_model():\n",
    "\t# create model\n",
    "\tmodel = Sequential()\n",
    "\tmodel.add(Dense(12, input_dim=12, activation='relu'))\n",
    "\tmodel.add(Dense(12, activation='relu'))\n",
    "\tmodel.add(Dense(3, activation='softmax'))\n",
    "\t# Compile model\n",
    "\tmodel.compile(loss='categorical_crossentropy', optimizer='adam', metrics=['accuracy'])\n",
    "\treturn model\n",
    "\n",
    "\n",
    "estimator = KerasClassifier(build_fn=baseline_model, epochs=100, batch_size=5, verbose=0)\n",
    "\n",
    "nn_pred = fit_pred_print(estimator, X_train, y_train, X_test, y_test, cf_matrix=True)"
   ]
  },
  {
   "cell_type": "code",
   "execution_count": 124,
   "metadata": {},
   "outputs": [
    {
     "name": "stdout",
     "output_type": "stream",
     "text": [
      "              precision    recall  f1-score   support\n",
      "\n",
      "           0       0.00      0.00      0.00        74\n",
      "           1       0.82      0.97      0.89      1493\n",
      "           2       0.78      0.36      0.49       383\n",
      "\n",
      "    accuracy                           0.82      1950\n",
      "   macro avg       0.53      0.45      0.46      1950\n",
      "weighted avg       0.78      0.82      0.78      1950\n",
      "\n"
     ]
    }
   ],
   "source": [
    "from sklearn.model_selection import GridSearchCV, RandomizedSearchCV\n",
    "\n",
    "tree_param = {'max_depth':[4,5,6,7,8,9,10,11,12,15,20,30,40,50,70,80,100],\n",
    "             'max_leaf_nodes': list(range(2, 100)), 'min_samples_split': [2, 3, 4]}\n",
    "\n",
    "randomsrch = RandomizedSearchCV(RandomForestClassifier(), param_distributions=tree_param, cv=5, n_jobs=-1)\n",
    "\n",
    "results = randomsrch.fit(X_train, y_train)\n",
    "\n",
    "rftree = RandomForestClassifier(**results.best_params_, n_jobs=-1)\n",
    "\n",
    "fit_pred_print(rftree, X_train, y_train, X_test, y_test)"
   ]
  },
  {
   "cell_type": "code",
   "execution_count": 125,
   "metadata": {},
   "outputs": [
    {
     "name": "stdout",
     "output_type": "stream",
     "text": [
      "              precision    recall  f1-score   support\n",
      "\n",
      "           0       0.00      0.00      0.00        74\n",
      "           1       0.78      0.99      0.87      1493\n",
      "           2       0.77      0.09      0.17       383\n",
      "\n",
      "    accuracy                           0.78      1950\n",
      "   macro avg       0.51      0.36      0.35      1950\n",
      "weighted avg       0.75      0.78      0.70      1950\n",
      "\n"
     ]
    }
   ],
   "source": [
    "tree_param = {'max_depth':[4,5,6,7,8,9,10,11,12,15,20,30,40,50,70,80,100],\n",
    "             'max_leaf_nodes': list(range(2, 100)), 'min_samples_split': [2, 3, 4]}\n",
    "\n",
    "randomsrch = RandomizedSearchCV(ExtraTreesClassifier(), param_distributions=tree_param, cv=5, n_jobs=-1)\n",
    "\n",
    "results = randomsrch.fit(X_train, y_train)\n",
    "\n",
    "etree = ExtraTreesClassifier(**results.best_params_, n_jobs=-1)\n",
    "\n",
    "fit_pred_print(etree, X_train, y_train, X_test, y_test)"
   ]
  },
  {
   "cell_type": "code",
   "execution_count": 126,
   "metadata": {},
   "outputs": [
    {
     "name": "stdout",
     "output_type": "stream",
     "text": [
      "              precision    recall  f1-score   support\n",
      "\n",
      "           0       0.60      0.04      0.08        74\n",
      "           1       0.84      0.96      0.89      1493\n",
      "           2       0.74      0.46      0.57       383\n",
      "\n",
      "    accuracy                           0.83      1950\n",
      "   macro avg       0.73      0.49      0.51      1950\n",
      "weighted avg       0.81      0.83      0.80      1950\n",
      "\n"
     ]
    }
   ],
   "source": [
    "bc_params = {\"base_estimator__max_depth\": range(3,22,2),\n",
    "\"base_estimator__max_features\": [None, \"auto\"],\n",
    "\"base_estimator__min_samples_leaf\": range(1,21,2),\n",
    "\"base_estimator__min_samples_split\": range(2,19,2),\n",
    "'bootstrap_features': [False, True],\n",
    "'max_features': [0.5, 0.7, 1.0],\n",
    "'max_samples': [0.5, 0.7, 1.0],\n",
    "'n_estimators': range(2,21,2),\n",
    "}\n",
    "\n",
    "bc_gs = RandomizedSearchCV(BaggingClassifier(DecisionTreeClassifier()), bc_params, cv=5, verbose=0, n_jobs=-1)\n",
    "\n",
    "results = bc_gs.fit(X_train, y_train)\n",
    "\n",
    "bg = BaggingClassifier(DecisionTreeClassifier())\n",
    "bg.set_params(**results.best_params_, n_jobs=-1)\n",
    "\n",
    "fit_pred_print(bg, X_train, y_train, X_test, y_test)"
   ]
  },
  {
   "cell_type": "markdown",
   "metadata": {},
   "source": [
    "<br>\n",
    "\n",
    "From these results, we can say that Bagging Classifier and Neural Network are performing better than others. Bagging might have similar accuracy but it does better in other metrics shown in classification report.\n",
    "\n",
    "\n",
    "I ran GridSearchCV on Bagging model to see if we can possibly make any improvements. Below are the results I got with the hyperparameters using GridSearchCV."
   ]
  },
  {
   "cell_type": "code",
   "execution_count": 127,
   "metadata": {},
   "outputs": [
    {
     "name": "stdout",
     "output_type": "stream",
     "text": [
      "              precision    recall  f1-score   support\n",
      "\n",
      "           0       0.75      0.04      0.08        74\n",
      "           1       0.85      0.97      0.91      1493\n",
      "           2       0.81      0.54      0.64       383\n",
      "\n",
      "    accuracy                           0.85      1950\n",
      "   macro avg       0.80      0.51      0.54      1950\n",
      "weighted avg       0.84      0.85      0.82      1950\n",
      "\n"
     ]
    },
    {
     "data": {
      "image/png": "[encoded data removed]",
      "text/plain": [
       "<Figure size 576x432 with 2 Axes>"
      ]
     },
     "metadata": {
      "needs_background": "light"
     },
     "output_type": "display_data"
    }
   ],
   "source": [
    "bg = BaggingClassifier(DecisionTreeClassifier(max_depth=20, max_features=None, min_samples_leaf=1,\n",
    "                                              min_samples_split=5), \n",
    "                       bootstrap_features=True, max_features=0.7, max_samples=1.0, n_estimators=20, n_jobs=-1)\n",
    "\n",
    "\n",
    "bag_pred = fit_pred_print(bg, X_train, y_train, X_test, y_test, cf_matrix=True)"
   ]
  },
  {
   "cell_type": "markdown",
   "metadata": {},
   "source": [
    "This tuned model works a little better than the previous model but improvement isn't significant. However, it is worth running GridSearchCV because you find global optima instead of a local from RandomSearchCV.\n",
    "\n",
    "By doing multiple runs of models we have chosen for doing hyperparameter tuning, we realised that RandomForest and ExtraTrees classifiers are not ideal as they're performing poorly with low quality wines. On the other hand, Neural Network and Bagging classifier show better performance with some variation amongst both."
   ]
  },
  {
   "cell_type": "markdown",
   "metadata": {},
   "source": [
    "<br>\n",
    "\n",
    "## Conclusion\n",
    "\n",
    "- We can now establish based on results that Neural Network and Bagging Classifier work the best for solving our problem. One clearly performs better than the other. However, we can also look at both of them closely.\n",
    "- Bagging Classifier gives best accuracy amongst all the models we've seen so far. We can say that model is performing in all areas and for all classes well based on the Precision, Recall, and F1 Score parameters. It surely outperforms NN in predicting High quality wines but in some cases loses to it when it comes to Low quality wines.\n",
    "- Neural Network has less accuracy but it makes good predictions for all the classes. It certainly performs better with Low quality wines, though marginally. Doesn't do as well as Bagging when it comes to High quality wines. After some more tweaking or with right architecture, NN can potentially outperform Bagging Classifier. I haven't gone deep into that part here though.\n",
    "- Looking at the way classes are aggregated, reader might be tempeted to question if that was the correct way to do it. The approach taken here doesn't resolve the imbalance. But it does help a bit. While thinking of aggregation, we need to remember that it wouldn't logically make sense to put the majority classes in two different groups. That might solve the imbalance but the resulting model would not be practical or true to the real world. The imbalance in the dataset here it high and it's difficult to remove it completely.\n",
    "- The class imbalance still exists even though we have aggregated 2-3 classes. This shows in the results and can be further worked upon. Possibly through Cost Sensitive ensemble methods such as MetaCost and AdaCost. That goes into the category of future work which I intend to add into this notebook. Hopefully soon. :)"
   ]
  }
 ],
 "metadata": {
  "kernelspec": {
   "display_name": "Python 3",
   "language": "python",
   "name": "python3"
  },
  "language_info": {
   "codemirror_mode": {
    "name": "ipython",
    "version": 3
   },
   "file_extension": ".py",
   "mimetype": "text/x-python",
   "name": "python",
   "nbconvert_exporter": "python",
   "pygments_lexer": "ipython3",
   "version": "3.7.4"
  }
 },
 "nbformat": 4,
 "nbformat_minor": 4
}
